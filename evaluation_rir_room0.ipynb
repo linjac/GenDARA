{
 "cells": [
  {
   "cell_type": "code",
   "execution_count": null,
   "metadata": {},
   "outputs": [],
   "source": [
    "import os\n",
    "import numpy as np\n",
    "import pandas as pd\n",
    "import matplotlib.pyplot as plt\n",
    "\n",
    "from GenDARA.dsp import calculate_rt, calculate_drr, calculate_edf, load_rirs\n",
    "\n",
    "%load_ext autoreload\n",
    "%autoreload 2"
   ]
  },
  {
   "cell_type": "markdown",
   "metadata": {},
   "source": [
    "# Evaluate accuracy of simulated RIRs in Room 0\n",
    "Room 0 is the control/calibration room measured at Treble's office. \n",
    "\n",
    "The provided data from Room 0 includes the: \n",
    "- 3D model\n",
    "- 20 measured RIRs (2 sources, 20 receivers) [mono]\n",
    "- 20 corresponding simulated RIRs [mono and 8th order HOA]\n",
    "- 404 simulated RIRs from a grid receivers (2 sources x 202 receivers) [mono and 8th order HOA]\n",
    "\n",
    "Below, we calculate the T20 Percentage Error, EDF (dB) Mean Squared Error, and Direct to Reverberant Ratio (dB) Mean Squared Error. Results reported in table III in the paper."
   ]
  },
  {
   "cell_type": "markdown",
   "metadata": {},
   "source": [
    "### Calculate RT, EDF, and DRR error\n",
    "#### T20 Percentage Error"
   ]
  },
  {
   "cell_type": "code",
   "execution_count": 4,
   "metadata": {},
   "outputs": [
    {
     "name": "stdout",
     "output_type": "stream",
     "text": [
      "Loaded dataset shape: (20, 12800)\n",
      "Loaded dataset shape: (20, 12800)\n",
      "Index(['roomID', 'receiverType', 'rirType', 'label_r', 'x_r', 'y_r', 'z_r',\n",
      "       'label_s', 'x_s', 'y_s', 'z_s', 'dist_gt', 'filename', 'id', 'rt_df1',\n",
      "       'rt_125_df1', 'rt_250_df1', 'rt_500_df1', 'rt_1000_df1', 'rt_2000_df1',\n",
      "       'rt_4000_df1', 'rt_df2', 'rt_125_df2', 'rt_250_df2', 'rt_500_df2',\n",
      "       'rt_1000_df2', 'rt_2000_df2', 'rt_4000_df2'],\n",
      "      dtype='object')\n"
     ]
    },
    {
     "data": {
      "text/plain": [
       "x_r            3.438000\n",
       "y_r            2.177000\n",
       "z_r            1.426500\n",
       "x_s            3.745000\n",
       "y_s            2.935000\n",
       "z_s            1.630000\n",
       "dist_gt        2.852680\n",
       "T60_PE         0.134635\n",
       "T60_PE_125     0.100867\n",
       "T60_PE_250     0.149968\n",
       "T60_PE_500     0.109062\n",
       "T60_PE_1000    0.120630\n",
       "T60_PE_2000    0.069308\n",
       "T60_PE_4000    0.177995\n",
       "dtype: float64"
      ]
     },
     "execution_count": 4,
     "metadata": {},
     "output_type": "execute_result"
    }
   ],
   "source": [
    "config = {'sr': 32000,\n",
    "        'filter_frequencies': [125, 250, 500, 1000, 2000, 4000],\n",
    "        'db_high_cutoff': 0,\n",
    "        'db_low_cutoff': 20\n",
    "}\n",
    "\n",
    "dir = './enrollment_data/Room_0_data/measured_rirs'\n",
    "######### load ground truth metadata to dataframe\n",
    "df1 = pd.read_csv(os.path.join(dir, 'meta.csv'))\n",
    "# load ground truth (measured) RIRs\n",
    "y_meas = load_rirs(dir, os.path.join(dir, \"meta.csv\"))\n",
    "\n",
    "# calculate reverberation time for the fullband and per octave band\n",
    "df1['rt'] = calculate_rt(y_meas, per_octaveband=False, **config)\n",
    "df1[['rt_{}'.format(f) for f in config['filter_frequencies']]] = calculate_rt(y_meas, per_octaveband=True, **config)\n",
    "\n",
    "######### Load simulated metadata to dataframe\n",
    "dir = './enrollment_data/Room_0_data/simulated_rirs/measurement_positions/mono'\n",
    "df2 = pd.read_csv(os.path.join(dir, 'meta.csv'))\n",
    "# load ground truth (measured) RIRs\n",
    "y_sim = load_rirs(dir, os.path.join(dir, \"meta.csv\"))\n",
    "\n",
    "df2['rt'] = calculate_rt(y_sim, per_octaveband=False, **config)\n",
    "df2[['rt_{}'.format(f) for f in config['filter_frequencies']]] = calculate_rt(y_sim, per_octaveband=True, **config)\n",
    "\n",
    "\n",
    "######### merge df1 and df2 based on index.\n",
    "df_error = pd.merge(df1, df2[['rt'] + ['rt_{}'.format(f) for f in config['filter_frequencies']]], left_index=True, right_index=True, suffixes=('_df1', '_df2'))\n",
    "print(df_error.columns)\n",
    "\n",
    "# calculate the percentage relative error\n",
    "df_error['T60_PE'] = np.abs((df_error['rt_df1'] - df_error['rt_df2']))/ df_error['rt_df1']\n",
    "for f in config['filter_frequencies']:\n",
    "    df_error['T60_PE_{}'.format(f)] = np.abs((df_error['rt_{}_df1'.format(f)] - df_error['rt_{}_df2'.format(f)]))/ df_error['rt_{}_df1'.format(f)]\n",
    "\n",
    "df_error = df_error.drop(columns=df_error.filter(regex='rt').columns)\n",
    "df_error.mean(numeric_only=True)"
   ]
  },
  {
   "cell_type": "markdown",
   "metadata": {},
   "source": [
    "#### Energy Decay Function (EDF) Mean Squared Error"
   ]
  },
  {
   "cell_type": "code",
   "execution_count": 5,
   "metadata": {},
   "outputs": [
    {
     "data": {
      "text/plain": [
       "x_r              3.438000\n",
       "y_r              2.177000\n",
       "z_r              1.426500\n",
       "x_s              3.745000\n",
       "y_s              2.935000\n",
       "z_s              1.630000\n",
       "dist_gt          2.852680\n",
       "T60_PE           0.134635\n",
       "T60_PE_125       0.100867\n",
       "T60_PE_250       0.149968\n",
       "T60_PE_500       0.109062\n",
       "T60_PE_1000      0.120630\n",
       "T60_PE_2000      0.069308\n",
       "T60_PE_4000      0.177995\n",
       "EDF_MSE         22.014560\n",
       "EDF_MSE_125      7.032809\n",
       "EDF_MSE_250      7.607006\n",
       "EDF_MSE_500      5.012496\n",
       "EDF_MSE_1000     4.410310\n",
       "EDF_MSE_2000     7.702280\n",
       "EDF_MSE_4000    41.084141\n",
       "dtype: float64"
      ]
     },
     "execution_count": 5,
     "metadata": {},
     "output_type": "execute_result"
    }
   ],
   "source": [
    "edf_meas = calculate_edf(y_meas, per_octaveband=False, plot=False, **config)\n",
    "edf_sim = calculate_edf(y_sim, per_octaveband=False, plot=False, **config)\n",
    "\n",
    "def plot_edfs():\n",
    "    # plot corresponding edfs from edf_meas and edf_sim for comparison \n",
    "    plt.figure()\n",
    "    for i in range(len(edf_meas)):\n",
    "        plt.plot(edf_meas[i,:], label='measured')\n",
    "        plt.plot(edf_sim[i,:], label='simulated')\n",
    "        plt.legend()\n",
    "        plt.title(f'EDF comparison: {i}') \n",
    "        plt.show()\n",
    "       \n",
    "def plot_waveforms(): \n",
    "    # plot corresponding edfs from edf_meas and edf_sim for comparison \n",
    "    plt.figure()\n",
    "    idx = -3000\n",
    "    for i in range(len(edf_meas)):\n",
    "        plt.plot(y_meas[i,idx:], label='measured')\n",
    "        plt.plot(y_sim[i,idx:], label='simulated')\n",
    "        plt.legend()\n",
    "        plt.title(f'Pressure comparison: {i}') \n",
    "        plt.show()\n",
    "\n",
    "# plot_edfs()\n",
    "# plot_waveforms()\n",
    "########## Full band EDF MSE\n",
    "edf_mse = np.empty(edf_meas.shape[0])\n",
    "for i in range(len(edf_meas)):\n",
    "    gt = edf_meas[i,:]\n",
    "    sim = edf_sim[i,:]\n",
    "    error = np.mean((gt-sim)**2)\n",
    "    edf_mse[i] = error.item()\n",
    "# print(edf_mse)\n",
    "\n",
    "# Drop last 5% of the EDF values, as they are not reliable\n",
    "edf_mse = np.empty(edf_meas.shape[0])\n",
    "for i in range(len(edf_meas)):\n",
    "    gt = edf_meas[i,:-int(0.05*len(edf_meas[i,:]))]\n",
    "    sim = edf_sim[i,:-int(0.05*len(edf_meas[i,:]))]\n",
    "    error = np.mean((gt-sim)**2)\n",
    "    edf_mse[i] = error.item()\n",
    "# print(edf_mse)\n",
    "\n",
    "\n",
    "######### Octave band EDF MSE\n",
    "edf_meas_band = calculate_edf(y_meas, per_octaveband=True, plot=False, **config)\n",
    "edf_sim_band = calculate_edf(y_sim, per_octaveband=True, plot=False, **config)\n",
    "\n",
    "edf_mse_per_band = np.empty((len(edf_meas_band), len(config['filter_frequencies'])))\n",
    "for j, f in enumerate(config['filter_frequencies']):\n",
    "    for i in range(len(edf_meas_band)):\n",
    "        gt = edf_meas_band[i,j,:]\n",
    "        sim = edf_sim_band[i,j,:]\n",
    "        error = np.mean((gt-sim)**2)\n",
    "        edf_mse_per_band[i,j] = error.item()\n",
    "# print(edf_mse_per_band)\n",
    "# print(\"\\n\")\n",
    "\n",
    "edf_mse_per_band = np.empty((len(edf_meas_band), len(config['filter_frequencies'])))\n",
    "for j, f in enumerate(config['filter_frequencies']):\n",
    "    for i in range(len(edf_meas_band)):\n",
    "        gt = edf_meas_band[i,j,:-int(0.05*len(edf_meas[i,:]))]\n",
    "        sim = edf_sim_band[i,j,:-int(0.05*len(edf_meas[i,:]))]\n",
    "        error = np.mean((gt-sim)**2)\n",
    "        edf_mse_per_band[i,j] = error.item()\n",
    "        \n",
    "# print(edf_mse_per_band)\n",
    "df_error['EDF_MSE'] = edf_mse\n",
    "df_error[['EDF_MSE_{}'.format(f) for f in config['filter_frequencies']]] = edf_mse_per_band\n",
    "\n",
    "df_error.mean(numeric_only=True)"
   ]
  },
  {
   "cell_type": "markdown",
   "metadata": {},
   "source": [
    "#### DRR MSE"
   ]
  },
  {
   "cell_type": "code",
   "execution_count": null,
   "metadata": {},
   "outputs": [
    {
     "name": "stdout",
     "output_type": "stream",
     "text": [
      "DRR_MSE: 14.466146469116211\n"
     ]
    }
   ],
   "source": [
    "drr_meas = calculate_drr(y_meas, per_octaveband=False, plot=False, **config)\n",
    "drr_sim = calculate_drr(y_sim, per_octaveband=False, plot=False, **config)\n",
    "\n",
    "drr_se = (drr_meas - drr_sim)**2\n",
    "df_error['DRR_SE'] = drr_se\n",
    "\n",
    "drr_mse = np.mean(drr_se)\n",
    "print(f'DRR_MSE: {drr_mse}')"
   ]
  }
 ],
 "metadata": {
  "kernelspec": {
   "display_name": "pytorchenv",
   "language": "python",
   "name": "python3"
  },
  "language_info": {
   "codemirror_mode": {
    "name": "ipython",
    "version": 3
   },
   "file_extension": ".py",
   "mimetype": "text/x-python",
   "name": "python",
   "nbconvert_exporter": "python",
   "pygments_lexer": "ipython3",
   "version": "3.10.13"
  }
 },
 "nbformat": 4,
 "nbformat_minor": 2
}
