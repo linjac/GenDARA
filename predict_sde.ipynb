{
 "cells": [
  {
   "cell_type": "markdown",
   "metadata": {},
   "source": [
    "# Speaker Distance Estimation "
   ]
  },
  {
   "cell_type": "code",
   "execution_count": 2,
   "metadata": {},
   "outputs": [],
   "source": [
    "import os\n",
    "import yaml\n",
    "import torch\n",
    "from torch.utils.data import DataLoader\n",
    "import pandas as pd\n",
    "import soundfile as sf\n",
    "\n",
    "from GenDARA.sde_model.model import SdeTrainer"
   ]
  },
  {
   "cell_type": "markdown",
   "metadata": {},
   "source": [
    "### Estimate speaker distance using trained model"
   ]
  },
  {
   "cell_type": "code",
   "execution_count": 5,
   "metadata": {},
   "outputs": [
    {
     "name": "stdout",
     "output_type": "stream",
     "text": [
      "Test data shape [n files, time samples]: torch.Size([480, 320000])\n",
      "{'att_conf': 'onSpec', 'features_set': 'all', 'kernels': 'freq', 'lr': 0.001, 'n_grus': 2, 'sr': 32000}\n"
     ]
    }
   ],
   "source": [
    "# Get test audio files\n",
    "test_audio_dir = './submission_folder/eval_2_speaker_distance_estimates/test_audio'\n",
    "test_audio_files = os.listdir(test_audio_dir)\n",
    "test_audio_files.sort()\n",
    "\n",
    "# Make dataframe with test audio filenames. Add speaker distance estimations later\n",
    "df = pd.DataFrame(test_audio_files, columns=['convolved_filename'])\n",
    "\n",
    "# Make test dataloader\n",
    "test_data = []\n",
    "for file in test_audio_files:\n",
    "    if file.endswith('.wav'):\n",
    "        out, sr = sf.read(os.path.join(test_audio_dir, file), always_2d=True, dtype=\"float32\")\n",
    "        out = torch.as_tensor(out).T\n",
    "        test_data.append(out)\n",
    "test_data = torch.cat(test_data)\n",
    "print(f'Test data shape [n files, time samples]: {test_data.shape}') # 480 audio, 320000 samples\n",
    "\n",
    "test_loader = DataLoader(test_data, batch_size=16, shuffle=False, drop_last=False)\n",
    "\n",
    "# Load model and config\n",
    "checkpoint_filepath = './GenDARA/sde_model/baseline.ckpt' # load baseline SDE model: trained only on C4DM RIRs and VCTK speech\n",
    "with open('./GenDARA/sde_model/config.yml') as f:\n",
    "    config = yaml.load(f, Loader=yaml.FullLoader)\n",
    "print(config)\n",
    "trainer = SdeTrainer.load_from_checkpoint(checkpoint_filepath,lr=config[\"lr\"], sr=config[\"sr\"], kernels = config['kernels'], n_grus = config['n_grus'], features_set = config['features_set'], att_conf = config['att_conf'])\n",
    "model = trainer.model.cpu()  # move model weights to cpu\n"
   ]
  },
  {
   "cell_type": "code",
   "execution_count": null,
   "metadata": {},
   "outputs": [
    {
     "data": {
      "text/html": [
       "<div>\n",
       "<style scoped>\n",
       "    .dataframe tbody tr th:only-of-type {\n",
       "        vertical-align: middle;\n",
       "    }\n",
       "\n",
       "    .dataframe tbody tr th {\n",
       "        vertical-align: top;\n",
       "    }\n",
       "\n",
       "    .dataframe thead th {\n",
       "        text-align: right;\n",
       "    }\n",
       "</style>\n",
       "<table border=\"1\" class=\"dataframe\">\n",
       "  <thead>\n",
       "    <tr style=\"text-align: right;\">\n",
       "      <th></th>\n",
       "      <th>convolved_filename</th>\n",
       "      <th>pred_distance</th>\n",
       "    </tr>\n",
       "  </thead>\n",
       "  <tbody>\n",
       "    <tr>\n",
       "      <th>0</th>\n",
       "      <td>audio_000.wav</td>\n",
       "      <td>5.666922</td>\n",
       "    </tr>\n",
       "    <tr>\n",
       "      <th>1</th>\n",
       "      <td>audio_001.wav</td>\n",
       "      <td>4.766877</td>\n",
       "    </tr>\n",
       "    <tr>\n",
       "      <th>2</th>\n",
       "      <td>audio_002.wav</td>\n",
       "      <td>3.373574</td>\n",
       "    </tr>\n",
       "    <tr>\n",
       "      <th>3</th>\n",
       "      <td>audio_003.wav</td>\n",
       "      <td>6.558952</td>\n",
       "    </tr>\n",
       "    <tr>\n",
       "      <th>4</th>\n",
       "      <td>audio_004.wav</td>\n",
       "      <td>9.486773</td>\n",
       "    </tr>\n",
       "  </tbody>\n",
       "</table>\n",
       "</div>"
      ],
      "text/plain": [
       "  convolved_filename  pred_distance\n",
       "0      audio_000.wav       5.666922\n",
       "1      audio_001.wav       4.766877\n",
       "2      audio_002.wav       3.373574\n",
       "3      audio_003.wav       6.558952\n",
       "4      audio_004.wav       9.486773"
      ]
     },
     "execution_count": 6,
     "metadata": {},
     "output_type": "execute_result"
    }
   ],
   "source": [
    "# Forward pass to get SDE predictions\n",
    "model.eval()\n",
    "with torch.no_grad():\n",
    "    for i, x in enumerate(test_loader): # This loop takes me ~ 1 min on cpu\n",
    "        pred, _, _, _ = model(x)\n",
    "        if i == 0:\n",
    "            preds = pred\n",
    "        else:\n",
    "            preds = torch.cat((preds, pred), dim=0)\n",
    "            \n",
    "preds = preds.detach().numpy()\n",
    "df['pred_distance'] = preds\n",
    "df.head()"
   ]
  },
  {
   "cell_type": "code",
   "execution_count": null,
   "metadata": {},
   "outputs": [],
   "source": [
    "# Save the predictions to .csv for submission\n",
    "save_csv = False # change this to True to save the csv\n",
    "if save_csv:\n",
    "    df.to_csv('./submission_folder/speaker_distance_estimates/test_speaker_distance_estimates.csv', index=False)"
   ]
  }
 ],
 "metadata": {
  "kernelspec": {
   "display_name": "gendara",
   "language": "python",
   "name": "python3"
  },
  "language_info": {
   "codemirror_mode": {
    "name": "ipython",
    "version": 3
   },
   "file_extension": ".py",
   "mimetype": "text/x-python",
   "name": "python",
   "nbconvert_exporter": "python",
   "pygments_lexer": "ipython3",
   "version": "3.12.8"
  }
 },
 "nbformat": 4,
 "nbformat_minor": 2
}
